{
 "cells": [
  {
   "cell_type": "markdown",
   "id": "6cc159bc-6fe6-4011-8c79-cd38ec9d1d25",
   "metadata": {},
   "source": [
    "### First, load the provided branch file as well as create a dataframe for a simple example to validate functions"
   ]
  },
  {
   "cell_type": "code",
   "execution_count": 393,
   "id": "23044c7b-73ab-479d-a3c3-cc5e290d0c15",
   "metadata": {},
   "outputs": [
    {
     "data": {
      "text/html": [
       "<div>\n",
       "<style scoped>\n",
       "    .dataframe tbody tr th:only-of-type {\n",
       "        vertical-align: middle;\n",
       "    }\n",
       "\n",
       "    .dataframe tbody tr th {\n",
       "        vertical-align: top;\n",
       "    }\n",
       "\n",
       "    .dataframe thead th {\n",
       "        text-align: right;\n",
       "    }\n",
       "</style>\n",
       "<table border=\"1\" class=\"dataframe\">\n",
       "  <thead>\n",
       "    <tr style=\"text-align: right;\">\n",
       "      <th></th>\n",
       "      <th>i</th>\n",
       "      <th>j</th>\n",
       "      <th>ckt_id</th>\n",
       "    </tr>\n",
       "  </thead>\n",
       "  <tbody>\n",
       "    <tr>\n",
       "      <th>0</th>\n",
       "      <td>2038</td>\n",
       "      <td>8945</td>\n",
       "      <td>1</td>\n",
       "    </tr>\n",
       "    <tr>\n",
       "      <th>1</th>\n",
       "      <td>2038</td>\n",
       "      <td>5563</td>\n",
       "      <td>2</td>\n",
       "    </tr>\n",
       "  </tbody>\n",
       "</table>\n",
       "</div>"
      ],
      "text/plain": [
       "      i     j  ckt_id\n",
       "0  2038  8945       1\n",
       "1  2038  5563       2"
      ]
     },
     "execution_count": 393,
     "metadata": {},
     "output_type": "execute_result"
    }
   ],
   "source": [
    "example = {'i': [2038, 2038, 5628, 5628, 5628, 2038, 2038], \n",
    "        'j': [8945, 5563, 8945, 5563, 745, 5628, 5628], \n",
    "        'ckt_id': [1, 2, 1, 1, 1, 1, 2]}\n",
    "df_example = pd.DataFrame(example)\n",
    "df_example.head(2)"
   ]
  },
  {
   "cell_type": "code",
   "execution_count": 395,
   "id": "2363ed69-51f4-4e44-8851-ab88df90ca42",
   "metadata": {},
   "outputs": [
    {
     "data": {
      "text/html": [
       "<div>\n",
       "<style scoped>\n",
       "    .dataframe tbody tr th:only-of-type {\n",
       "        vertical-align: middle;\n",
       "    }\n",
       "\n",
       "    .dataframe tbody tr th {\n",
       "        vertical-align: top;\n",
       "    }\n",
       "\n",
       "    .dataframe thead th {\n",
       "        text-align: right;\n",
       "    }\n",
       "</style>\n",
       "<table border=\"1\" class=\"dataframe\">\n",
       "  <thead>\n",
       "    <tr style=\"text-align: right;\">\n",
       "      <th></th>\n",
       "      <th>i</th>\n",
       "      <th>j</th>\n",
       "      <th>ckt_id</th>\n",
       "    </tr>\n",
       "  </thead>\n",
       "  <tbody>\n",
       "    <tr>\n",
       "      <th>0</th>\n",
       "      <td>1</td>\n",
       "      <td>3</td>\n",
       "      <td>22</td>\n",
       "    </tr>\n",
       "    <tr>\n",
       "      <th>1</th>\n",
       "      <td>1</td>\n",
       "      <td>300020</td>\n",
       "      <td>21</td>\n",
       "    </tr>\n",
       "  </tbody>\n",
       "</table>\n",
       "</div>"
      ],
      "text/plain": [
       "   i       j ckt_id\n",
       "0  1       3     22\n",
       "1  1  300020     21"
      ]
     },
     "execution_count": 395,
     "metadata": {},
     "output_type": "execute_result"
    }
   ],
   "source": [
    "df_branch = pd.read_csv('branch.csv')\n",
    "df_branch.head(2)"
   ]
  },
  {
   "cell_type": "markdown",
   "id": "f7122dd0-9cda-4b73-8a51-2f410563f950",
   "metadata": {},
   "source": [
    "### compute_hops\n",
    "Finds the minimum number of hops between two buses in the network"
   ]
  },
  {
   "cell_type": "code",
   "execution_count": 404,
   "id": "f5be83ea-3f3e-4243-aba0-dd062aef0bfb",
   "metadata": {},
   "outputs": [],
   "source": [
    "from collections import deque\n",
    "\n",
    "def compute_hops(dataframe, start_bus, end_bus):\n",
    "    # Build a graph from the dataframe\n",
    "    graph = {}\n",
    "    for _, row in dataframe.iterrows():\n",
    "        bus_from = row['i']\n",
    "        bus_to = row['j']\n",
    "\n",
    "        # Checks if a given bus (from i or j) is already in the graph\n",
    "        if bus_from not in graph:\n",
    "            graph[bus_from] = set()\n",
    "        if bus_to not in graph:\n",
    "            graph[bus_to] = set()\n",
    "\n",
    "        # Each bus connection is added bidirectionally because the connections are undirected \n",
    "        graph[bus_from].add(bus_to)\n",
    "        graph[bus_to].add(bus_from)\n",
    "    \n",
    "    # Initialize a double-ended queue to keep track of the current bus and number of hops it's taken to reach it\n",
    "    queue = deque([(start_bus, 0)])  # (current_bus, current_hops)\n",
    "\n",
    "    # Create a set to keep track of buses already explored, to avoid repetition \n",
    "    visited = set()\n",
    "\n",
    "    # Runs while there are still un-checked buses in the queue\n",
    "    while queue:\n",
    "        # Left item in the queue contains current bus and count of hops\n",
    "        current_bus, hops = queue.popleft()\n",
    "\n",
    "        if current_bus == end_bus:\n",
    "            return hops # end if at target bus\n",
    "        \n",
    "        visited.add(current_bus) # mark as visited\n",
    "\n",
    "        # add unvisited neighbors to the right of the double-ended queue\n",
    "        for neighbor in graph[current_bus]:\n",
    "            if neighbor not in visited:\n",
    "                queue.append((neighbor, hops + 1))\n",
    "    \n",
    "    return -1  # Return -1 if there's no path between start_bus and end_bus"
   ]
  },
  {
   "cell_type": "markdown",
   "id": "1326260b-d9b8-4e05-adb3-d9d7c758616c",
   "metadata": {},
   "source": [
    "#### Validate that it works with a simple example"
   ]
  },
  {
   "cell_type": "code",
   "execution_count": 412,
   "id": "7fd7c5ec-9e77-492e-a550-8560d4b1caf1",
   "metadata": {},
   "outputs": [
    {
     "data": {
      "text/plain": [
       "2"
      ]
     },
     "execution_count": 412,
     "metadata": {},
     "output_type": "execute_result"
    }
   ],
   "source": [
    "compute_hops(df_example, 745, 8945)"
   ]
  },
  {
   "cell_type": "markdown",
   "id": "07853415-bdc4-4e77-9387-061639219d08",
   "metadata": {},
   "source": [
    "### buses_within_hops\n",
    "\n",
    "Lists all buses within a given number of hops from a starting bus"
   ]
  },
  {
   "cell_type": "code",
   "execution_count": 427,
   "id": "0c9307f7-7e57-4bac-928e-ec969b335e8c",
   "metadata": {},
   "outputs": [],
   "source": [
    "def buses_within_hops(dataframe, start_bus, max_hops):\n",
    "    # Same process of building the graph, initializing varialbes\n",
    "    graph = {}\n",
    "    for _, row in dataframe.iterrows():\n",
    "        bus_from = row['i']\n",
    "        bus_to = row['j']\n",
    "        \n",
    "        if bus_from not in graph:\n",
    "            graph[bus_from] = set()\n",
    "        if bus_to not in graph:\n",
    "            graph[bus_to] = set()\n",
    "        \n",
    "        graph[bus_from].add(bus_to)\n",
    "        graph[bus_to].add(bus_from)\n",
    "    \n",
    "    queue = deque([(start_bus, 0)])\n",
    "    visited = set([start_bus])\n",
    "\n",
    "    # Create a set to keep track of all \n",
    "    result = set()\n",
    "    \n",
    "    while queue:\n",
    "        current_bus, hops = queue.popleft()\n",
    "\n",
    "        # stop searching when maximum number of hops is reached\n",
    "        if hops > max_hops:\n",
    "            break\n",
    "\n",
    "        # append found buses\n",
    "        result.add(current_bus)\n",
    "        \n",
    "        for neighbor in graph[current_bus]:\n",
    "            if neighbor not in visited:\n",
    "                visited.add(neighbor)\n",
    "                queue.append((neighbor, hops + 1))\n",
    "\n",
    "    # remove the starting bus and return result\n",
    "    return result - {start_bus}"
   ]
  },
  {
   "cell_type": "code",
   "execution_count": 429,
   "id": "5176e20b-1162-4eee-b344-bb3350ecced1",
   "metadata": {},
   "outputs": [
    {
     "data": {
      "text/plain": [
       "{2038, 5628}"
      ]
     },
     "execution_count": 429,
     "metadata": {},
     "output_type": "execute_result"
    }
   ],
   "source": [
    "buses_within_hops(df_example, 8945, 1)"
   ]
  },
  {
   "cell_type": "code",
   "execution_count": 431,
   "id": "e39a8d4e-1148-4816-8da6-056d42c18c30",
   "metadata": {},
   "outputs": [
    {
     "data": {
      "text/plain": [
       "{1,\n",
       " 2,\n",
       " 300020,\n",
       " 300021,\n",
       " 300024,\n",
       " 300033,\n",
       " 300069,\n",
       " 300739,\n",
       " 300740,\n",
       " 301348,\n",
       " 512626,\n",
       " 512629,\n",
       " 512635,\n",
       " 512638,\n",
       " 512648,\n",
       " 512656,\n",
       " 512760,\n",
       " 513050}"
      ]
     },
     "execution_count": 431,
     "metadata": {},
     "output_type": "execute_result"
    }
   ],
   "source": [
    "buses_within_hops(df_branch, 3, 4)"
   ]
  }
 ],
 "metadata": {
  "kernelspec": {
   "display_name": "Python 3 (ipykernel)",
   "language": "python",
   "name": "python3"
  },
  "language_info": {
   "codemirror_mode": {
    "name": "ipython",
    "version": 3
   },
   "file_extension": ".py",
   "mimetype": "text/x-python",
   "name": "python",
   "nbconvert_exporter": "python",
   "pygments_lexer": "ipython3",
   "version": "3.12.4"
  }
 },
 "nbformat": 4,
 "nbformat_minor": 5
}
